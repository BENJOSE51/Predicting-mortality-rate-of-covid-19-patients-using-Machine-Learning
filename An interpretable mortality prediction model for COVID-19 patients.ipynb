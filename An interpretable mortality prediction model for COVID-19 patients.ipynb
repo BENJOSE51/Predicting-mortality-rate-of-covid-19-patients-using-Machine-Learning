{
 "cells": [
  {
   "cell_type": "markdown",
   "metadata": {},
   "source": [
    "## An interpretable mortality prediction model for COVID-19 patients"
   ]
  },
  {
   "cell_type": "markdown",
   "metadata": {},
   "source": [
    "**Data Preprocessing**"
   ]
  },
  {
   "cell_type": "markdown",
   "metadata": {},
   "source": [
    "**Importing the libraries**"
   ]
  },
  {
   "cell_type": "code",
   "execution_count": 2,
   "metadata": {},
   "outputs": [],
   "source": [
    "import numpy as np\n",
    "import pandas as pd"
   ]
  },
  {
   "cell_type": "markdown",
   "metadata": {},
   "source": [
    "Here we have imported Numpy package inorder to to perform a number of mathematical operations on arrays.\n",
    "Pandas has two data structures: dataframe and series. Dataframe is commonly used for data manipulation."
   ]
  },
  {
   "cell_type": "markdown",
   "metadata": {},
   "source": [
    "**Dataset Description:**"
   ]
  },
  {
   "cell_type": "markdown",
   "metadata": {},
   "source": [
    "**This study uses a database of blood samples from covid-19 infected patients in the region of Wuhan, China, to identify crucial predictive biomarkers of disease mortality.Here we are using the test set on the latest blood samples of 110 patients.**"
   ]
  },
  {
   "cell_type": "markdown",
   "metadata": {},
   "source": [
    "**Importing the original dataset**"
   ]
  },
  {
   "cell_type": "code",
   "execution_count": 23,
   "metadata": {},
   "outputs": [],
   "source": [
    "a0=pd.read_excel(\"time_series_test_110_preprocess_en.xlsx\") #To import the excel file as a dataframe"
   ]
  },
  {
   "cell_type": "code",
   "execution_count": 24,
   "metadata": {},
   "outputs": [
    {
     "data": {
      "text/html": [
       "<div>\n",
       "<style scoped>\n",
       "    .dataframe tbody tr th:only-of-type {\n",
       "        vertical-align: middle;\n",
       "    }\n",
       "\n",
       "    .dataframe tbody tr th {\n",
       "        vertical-align: top;\n",
       "    }\n",
       "\n",
       "    .dataframe thead th {\n",
       "        text-align: right;\n",
       "    }\n",
       "</style>\n",
       "<table border=\"1\" class=\"dataframe\">\n",
       "  <thead>\n",
       "    <tr style=\"text-align: right;\">\n",
       "      <th></th>\n",
       "      <th>PATIENT_ID</th>\n",
       "      <th>RE_DATE</th>\n",
       "      <th>Lactate dehydrogenase</th>\n",
       "      <th>Hypersensitive c-reactive protein</th>\n",
       "      <th>(%)lymphocyte</th>\n",
       "      <th>Admission time</th>\n",
       "      <th>Discharge time</th>\n",
       "      <th>outcome</th>\n",
       "    </tr>\n",
       "  </thead>\n",
       "  <tbody>\n",
       "    <tr>\n",
       "      <th>0</th>\n",
       "      <td>1.0</td>\n",
       "      <td>2020-02-10 11:15:00</td>\n",
       "      <td>NaN</td>\n",
       "      <td>NaN</td>\n",
       "      <td>28.0</td>\n",
       "      <td>2020-02-09 10:47:24</td>\n",
       "      <td>2020-02-21 14:51:12</td>\n",
       "      <td>0</td>\n",
       "    </tr>\n",
       "    <tr>\n",
       "      <th>1</th>\n",
       "      <td>NaN</td>\n",
       "      <td>2020-02-10 12:07:00</td>\n",
       "      <td>183.0</td>\n",
       "      <td>5.1</td>\n",
       "      <td>NaN</td>\n",
       "      <td>2020-02-09 10:47:24</td>\n",
       "      <td>2020-02-21 14:51:12</td>\n",
       "      <td>0</td>\n",
       "    </tr>\n",
       "    <tr>\n",
       "      <th>2</th>\n",
       "      <td>NaN</td>\n",
       "      <td>2020-02-13 09:35:00</td>\n",
       "      <td>NaN</td>\n",
       "      <td>NaN</td>\n",
       "      <td>28.6</td>\n",
       "      <td>2020-02-09 10:47:24</td>\n",
       "      <td>2020-02-21 14:51:12</td>\n",
       "      <td>0</td>\n",
       "    </tr>\n",
       "    <tr>\n",
       "      <th>3</th>\n",
       "      <td>NaN</td>\n",
       "      <td>2020-02-13 10:06:00</td>\n",
       "      <td>194.0</td>\n",
       "      <td>2.7</td>\n",
       "      <td>NaN</td>\n",
       "      <td>2020-02-09 10:47:24</td>\n",
       "      <td>2020-02-21 14:51:12</td>\n",
       "      <td>0</td>\n",
       "    </tr>\n",
       "    <tr>\n",
       "      <th>4</th>\n",
       "      <td>2.0</td>\n",
       "      <td>2020-02-09 06:56:00</td>\n",
       "      <td>NaN</td>\n",
       "      <td>NaN</td>\n",
       "      <td>28.3</td>\n",
       "      <td>2020-02-09 03:39:47</td>\n",
       "      <td>2020-02-21 11:57:40</td>\n",
       "      <td>0</td>\n",
       "    </tr>\n",
       "    <tr>\n",
       "      <th>...</th>\n",
       "      <td>...</td>\n",
       "      <td>...</td>\n",
       "      <td>...</td>\n",
       "      <td>...</td>\n",
       "      <td>...</td>\n",
       "      <td>...</td>\n",
       "      <td>...</td>\n",
       "      <td>...</td>\n",
       "    </tr>\n",
       "    <tr>\n",
       "      <th>752</th>\n",
       "      <td>NaN</td>\n",
       "      <td>2020-02-05 12:36:00</td>\n",
       "      <td>562.0</td>\n",
       "      <td>78.1</td>\n",
       "      <td>NaN</td>\n",
       "      <td>2020-02-05 00:27:57</td>\n",
       "      <td>2020-02-22 14:11:47</td>\n",
       "      <td>0</td>\n",
       "    </tr>\n",
       "    <tr>\n",
       "      <th>753</th>\n",
       "      <td>NaN</td>\n",
       "      <td>2020-02-11 09:40:00</td>\n",
       "      <td>NaN</td>\n",
       "      <td>NaN</td>\n",
       "      <td>9.7</td>\n",
       "      <td>2020-02-05 00:27:57</td>\n",
       "      <td>2020-02-22 14:11:47</td>\n",
       "      <td>0</td>\n",
       "    </tr>\n",
       "    <tr>\n",
       "      <th>754</th>\n",
       "      <td>NaN</td>\n",
       "      <td>2020-02-11 10:04:00</td>\n",
       "      <td>438.0</td>\n",
       "      <td>NaN</td>\n",
       "      <td>NaN</td>\n",
       "      <td>2020-02-05 00:27:57</td>\n",
       "      <td>2020-02-22 14:11:47</td>\n",
       "      <td>0</td>\n",
       "    </tr>\n",
       "    <tr>\n",
       "      <th>755</th>\n",
       "      <td>NaN</td>\n",
       "      <td>2020-02-17 10:00:00</td>\n",
       "      <td>430.0</td>\n",
       "      <td>31.2</td>\n",
       "      <td>NaN</td>\n",
       "      <td>2020-02-05 00:27:57</td>\n",
       "      <td>2020-02-22 14:11:47</td>\n",
       "      <td>0</td>\n",
       "    </tr>\n",
       "    <tr>\n",
       "      <th>756</th>\n",
       "      <td>NaN</td>\n",
       "      <td>2020-02-17 12:05:00</td>\n",
       "      <td>NaN</td>\n",
       "      <td>NaN</td>\n",
       "      <td>10.0</td>\n",
       "      <td>2020-02-05 00:27:57</td>\n",
       "      <td>2020-02-22 14:11:47</td>\n",
       "      <td>0</td>\n",
       "    </tr>\n",
       "  </tbody>\n",
       "</table>\n",
       "<p>757 rows × 8 columns</p>\n",
       "</div>"
      ],
      "text/plain": [
       "     PATIENT_ID             RE_DATE  Lactate dehydrogenase  \\\n",
       "0           1.0 2020-02-10 11:15:00                    NaN   \n",
       "1           NaN 2020-02-10 12:07:00                  183.0   \n",
       "2           NaN 2020-02-13 09:35:00                    NaN   \n",
       "3           NaN 2020-02-13 10:06:00                  194.0   \n",
       "4           2.0 2020-02-09 06:56:00                    NaN   \n",
       "..          ...                 ...                    ...   \n",
       "752         NaN 2020-02-05 12:36:00                  562.0   \n",
       "753         NaN 2020-02-11 09:40:00                    NaN   \n",
       "754         NaN 2020-02-11 10:04:00                  438.0   \n",
       "755         NaN 2020-02-17 10:00:00                  430.0   \n",
       "756         NaN 2020-02-17 12:05:00                    NaN   \n",
       "\n",
       "     Hypersensitive c-reactive protein  (%)lymphocyte      Admission time  \\\n",
       "0                                  NaN           28.0 2020-02-09 10:47:24   \n",
       "1                                  5.1            NaN 2020-02-09 10:47:24   \n",
       "2                                  NaN           28.6 2020-02-09 10:47:24   \n",
       "3                                  2.7            NaN 2020-02-09 10:47:24   \n",
       "4                                  NaN           28.3 2020-02-09 03:39:47   \n",
       "..                                 ...            ...                 ...   \n",
       "752                               78.1            NaN 2020-02-05 00:27:57   \n",
       "753                                NaN            9.7 2020-02-05 00:27:57   \n",
       "754                                NaN            NaN 2020-02-05 00:27:57   \n",
       "755                               31.2            NaN 2020-02-05 00:27:57   \n",
       "756                                NaN           10.0 2020-02-05 00:27:57   \n",
       "\n",
       "         Discharge time  outcome  \n",
       "0   2020-02-21 14:51:12        0  \n",
       "1   2020-02-21 14:51:12        0  \n",
       "2   2020-02-21 14:51:12        0  \n",
       "3   2020-02-21 14:51:12        0  \n",
       "4   2020-02-21 11:57:40        0  \n",
       "..                  ...      ...  \n",
       "752 2020-02-22 14:11:47        0  \n",
       "753 2020-02-22 14:11:47        0  \n",
       "754 2020-02-22 14:11:47        0  \n",
       "755 2020-02-22 14:11:47        0  \n",
       "756 2020-02-22 14:11:47        0  \n",
       "\n",
       "[757 rows x 8 columns]"
      ]
     },
     "execution_count": 24,
     "metadata": {},
     "output_type": "execute_result"
    }
   ],
   "source": [
    "a0 #Displaying the dataframe"
   ]
  },
  {
   "cell_type": "markdown",
   "metadata": {},
   "source": [
    "**Checking out the missing values**"
   ]
  },
  {
   "cell_type": "code",
   "execution_count": 27,
   "metadata": {},
   "outputs": [
    {
     "data": {
      "text/plain": [
       "PATIENT_ID                           647\n",
       "RE_DATE                                0\n",
       "Lactate dehydrogenase                397\n",
       "Hypersensitive c-reactive protein    472\n",
       "(%)lymphocyte                        384\n",
       "Admission time                         0\n",
       "Discharge time                         0\n",
       "outcome                                0\n",
       "dtype: int64"
      ]
     },
     "execution_count": 27,
     "metadata": {},
     "output_type": "execute_result"
    }
   ],
   "source": [
    "a0.isnull().sum() #returns the sum of null values in each column of the dataframe."
   ]
  },
  {
   "cell_type": "markdown",
   "metadata": {},
   "source": [
    "**In the study, the number of key features was set to the following three: lactic dehydrogenase (LDH), lymphocytes and high-sensitivity C-reactive protein (hs-CRP).Therefore the dataset is cleaned to include the three features which was used in the study and to remove the null values.The model outcome corresponds to the mortality of the patients. Patients who survived were put in class 0 and those who died in class 1.**"
   ]
  },
  {
   "cell_type": "markdown",
   "metadata": {},
   "source": [
    "**Importing the dataset after cleaning**"
   ]
  },
  {
   "cell_type": "code",
   "execution_count": 3,
   "metadata": {},
   "outputs": [],
   "source": [
    "a=pd.read_excel(\"Final.xlsx\") #To import the excel file as a dataframe"
   ]
  },
  {
   "cell_type": "code",
   "execution_count": 4,
   "metadata": {},
   "outputs": [
    {
     "data": {
      "text/html": [
       "<div>\n",
       "<style scoped>\n",
       "    .dataframe tbody tr th:only-of-type {\n",
       "        vertical-align: middle;\n",
       "    }\n",
       "\n",
       "    .dataframe tbody tr th {\n",
       "        vertical-align: top;\n",
       "    }\n",
       "\n",
       "    .dataframe thead th {\n",
       "        text-align: right;\n",
       "    }\n",
       "</style>\n",
       "<table border=\"1\" class=\"dataframe\">\n",
       "  <thead>\n",
       "    <tr style=\"text-align: right;\">\n",
       "      <th></th>\n",
       "      <th>ID</th>\n",
       "      <th>Lactate dehydrogenase</th>\n",
       "      <th>Hypersensitive c-reactive protein</th>\n",
       "      <th>(%)lymphocyte</th>\n",
       "      <th>outcome</th>\n",
       "    </tr>\n",
       "  </thead>\n",
       "  <tbody>\n",
       "    <tr>\n",
       "      <th>0</th>\n",
       "      <td>1</td>\n",
       "      <td>183</td>\n",
       "      <td>5.1</td>\n",
       "      <td>28.0</td>\n",
       "      <td>0</td>\n",
       "    </tr>\n",
       "    <tr>\n",
       "      <th>1</th>\n",
       "      <td>1</td>\n",
       "      <td>194</td>\n",
       "      <td>2.7</td>\n",
       "      <td>28.6</td>\n",
       "      <td>0</td>\n",
       "    </tr>\n",
       "    <tr>\n",
       "      <th>2</th>\n",
       "      <td>2</td>\n",
       "      <td>216</td>\n",
       "      <td>5.3</td>\n",
       "      <td>28.3</td>\n",
       "      <td>0</td>\n",
       "    </tr>\n",
       "    <tr>\n",
       "      <th>3</th>\n",
       "      <td>2</td>\n",
       "      <td>172</td>\n",
       "      <td>0.7</td>\n",
       "      <td>30.5</td>\n",
       "      <td>0</td>\n",
       "    </tr>\n",
       "    <tr>\n",
       "      <th>4</th>\n",
       "      <td>3</td>\n",
       "      <td>366</td>\n",
       "      <td>34.7</td>\n",
       "      <td>3.6</td>\n",
       "      <td>1</td>\n",
       "    </tr>\n",
       "    <tr>\n",
       "      <th>...</th>\n",
       "      <td>...</td>\n",
       "      <td>...</td>\n",
       "      <td>...</td>\n",
       "      <td>...</td>\n",
       "      <td>...</td>\n",
       "    </tr>\n",
       "    <tr>\n",
       "      <th>255</th>\n",
       "      <td>109</td>\n",
       "      <td>417</td>\n",
       "      <td>228.2</td>\n",
       "      <td>1.0</td>\n",
       "      <td>1</td>\n",
       "    </tr>\n",
       "    <tr>\n",
       "      <th>256</th>\n",
       "      <td>109</td>\n",
       "      <td>501</td>\n",
       "      <td>317.6</td>\n",
       "      <td>1.3</td>\n",
       "      <td>1</td>\n",
       "    </tr>\n",
       "    <tr>\n",
       "      <th>257</th>\n",
       "      <td>109</td>\n",
       "      <td>403</td>\n",
       "      <td>258.8</td>\n",
       "      <td>0.9</td>\n",
       "      <td>1</td>\n",
       "    </tr>\n",
       "    <tr>\n",
       "      <th>258</th>\n",
       "      <td>110</td>\n",
       "      <td>562</td>\n",
       "      <td>78.1</td>\n",
       "      <td>11.0</td>\n",
       "      <td>0</td>\n",
       "    </tr>\n",
       "    <tr>\n",
       "      <th>259</th>\n",
       "      <td>110</td>\n",
       "      <td>430</td>\n",
       "      <td>31.2</td>\n",
       "      <td>10.0</td>\n",
       "      <td>0</td>\n",
       "    </tr>\n",
       "  </tbody>\n",
       "</table>\n",
       "<p>260 rows × 5 columns</p>\n",
       "</div>"
      ],
      "text/plain": [
       "      ID  Lactate dehydrogenase  Hypersensitive c-reactive protein  \\\n",
       "0      1                    183                                5.1   \n",
       "1      1                    194                                2.7   \n",
       "2      2                    216                                5.3   \n",
       "3      2                    172                                0.7   \n",
       "4      3                    366                               34.7   \n",
       "..   ...                    ...                                ...   \n",
       "255  109                    417                              228.2   \n",
       "256  109                    501                              317.6   \n",
       "257  109                    403                              258.8   \n",
       "258  110                    562                               78.1   \n",
       "259  110                    430                               31.2   \n",
       "\n",
       "     (%)lymphocyte  outcome  \n",
       "0             28.0        0  \n",
       "1             28.6        0  \n",
       "2             28.3        0  \n",
       "3             30.5        0  \n",
       "4              3.6        1  \n",
       "..             ...      ...  \n",
       "255            1.0        1  \n",
       "256            1.3        1  \n",
       "257            0.9        1  \n",
       "258           11.0        0  \n",
       "259           10.0        0  \n",
       "\n",
       "[260 rows x 5 columns]"
      ]
     },
     "execution_count": 4,
     "metadata": {},
     "output_type": "execute_result"
    }
   ],
   "source": [
    "a #Displaying the dataframe"
   ]
  },
  {
   "cell_type": "markdown",
   "metadata": {},
   "source": [
    "**Checking out the missing values**"
   ]
  },
  {
   "cell_type": "code",
   "execution_count": 5,
   "metadata": {},
   "outputs": [
    {
     "data": {
      "text/plain": [
       "ID                                   False\n",
       "Lactate dehydrogenase                False\n",
       "Hypersensitive c-reactive protein    False\n",
       "(%)lymphocyte                        False\n",
       "outcome                              False\n",
       "dtype: bool"
      ]
     },
     "execution_count": 5,
     "metadata": {},
     "output_type": "execute_result"
    }
   ],
   "source": [
    "a.isnull().any() #isnull().any() is used to check whether there exist any null values in the dataframe."
   ]
  },
  {
   "cell_type": "markdown",
   "metadata": {},
   "source": [
    "**This study develops a model which helps to predict patients who require urgent medical attention in order to reduce the clinical burden and potentially decreasing the rate of mortality.**"
   ]
  },
  {
   "cell_type": "markdown",
   "metadata": {},
   "source": [
    "**Therefore the aim of this assignment is to try and implement a similar model as much as possible**"
   ]
  },
  {
   "cell_type": "markdown",
   "metadata": {},
   "source": [
    "**Preparing feature and target data**"
   ]
  },
  {
   "cell_type": "code",
   "execution_count": 6,
   "metadata": {},
   "outputs": [],
   "source": [
    "X=a.iloc[:,1:4] #Here we have selected the features of the dataframe 'a' using iloc() and stored it in a variable named X."
   ]
  },
  {
   "cell_type": "markdown",
   "metadata": {},
   "source": [
    "**Displaying the feature data**"
   ]
  },
  {
   "cell_type": "code",
   "execution_count": 7,
   "metadata": {},
   "outputs": [
    {
     "data": {
      "text/html": [
       "<div>\n",
       "<style scoped>\n",
       "    .dataframe tbody tr th:only-of-type {\n",
       "        vertical-align: middle;\n",
       "    }\n",
       "\n",
       "    .dataframe tbody tr th {\n",
       "        vertical-align: top;\n",
       "    }\n",
       "\n",
       "    .dataframe thead th {\n",
       "        text-align: right;\n",
       "    }\n",
       "</style>\n",
       "<table border=\"1\" class=\"dataframe\">\n",
       "  <thead>\n",
       "    <tr style=\"text-align: right;\">\n",
       "      <th></th>\n",
       "      <th>Lactate dehydrogenase</th>\n",
       "      <th>Hypersensitive c-reactive protein</th>\n",
       "      <th>(%)lymphocyte</th>\n",
       "    </tr>\n",
       "  </thead>\n",
       "  <tbody>\n",
       "    <tr>\n",
       "      <th>0</th>\n",
       "      <td>183</td>\n",
       "      <td>5.1</td>\n",
       "      <td>28.0</td>\n",
       "    </tr>\n",
       "    <tr>\n",
       "      <th>1</th>\n",
       "      <td>194</td>\n",
       "      <td>2.7</td>\n",
       "      <td>28.6</td>\n",
       "    </tr>\n",
       "    <tr>\n",
       "      <th>2</th>\n",
       "      <td>216</td>\n",
       "      <td>5.3</td>\n",
       "      <td>28.3</td>\n",
       "    </tr>\n",
       "    <tr>\n",
       "      <th>3</th>\n",
       "      <td>172</td>\n",
       "      <td>0.7</td>\n",
       "      <td>30.5</td>\n",
       "    </tr>\n",
       "    <tr>\n",
       "      <th>4</th>\n",
       "      <td>366</td>\n",
       "      <td>34.7</td>\n",
       "      <td>3.6</td>\n",
       "    </tr>\n",
       "    <tr>\n",
       "      <th>...</th>\n",
       "      <td>...</td>\n",
       "      <td>...</td>\n",
       "      <td>...</td>\n",
       "    </tr>\n",
       "    <tr>\n",
       "      <th>255</th>\n",
       "      <td>417</td>\n",
       "      <td>228.2</td>\n",
       "      <td>1.0</td>\n",
       "    </tr>\n",
       "    <tr>\n",
       "      <th>256</th>\n",
       "      <td>501</td>\n",
       "      <td>317.6</td>\n",
       "      <td>1.3</td>\n",
       "    </tr>\n",
       "    <tr>\n",
       "      <th>257</th>\n",
       "      <td>403</td>\n",
       "      <td>258.8</td>\n",
       "      <td>0.9</td>\n",
       "    </tr>\n",
       "    <tr>\n",
       "      <th>258</th>\n",
       "      <td>562</td>\n",
       "      <td>78.1</td>\n",
       "      <td>11.0</td>\n",
       "    </tr>\n",
       "    <tr>\n",
       "      <th>259</th>\n",
       "      <td>430</td>\n",
       "      <td>31.2</td>\n",
       "      <td>10.0</td>\n",
       "    </tr>\n",
       "  </tbody>\n",
       "</table>\n",
       "<p>260 rows × 3 columns</p>\n",
       "</div>"
      ],
      "text/plain": [
       "     Lactate dehydrogenase  Hypersensitive c-reactive protein  (%)lymphocyte\n",
       "0                      183                                5.1           28.0\n",
       "1                      194                                2.7           28.6\n",
       "2                      216                                5.3           28.3\n",
       "3                      172                                0.7           30.5\n",
       "4                      366                               34.7            3.6\n",
       "..                     ...                                ...            ...\n",
       "255                    417                              228.2            1.0\n",
       "256                    501                              317.6            1.3\n",
       "257                    403                              258.8            0.9\n",
       "258                    562                               78.1           11.0\n",
       "259                    430                               31.2           10.0\n",
       "\n",
       "[260 rows x 3 columns]"
      ]
     },
     "execution_count": 7,
     "metadata": {},
     "output_type": "execute_result"
    }
   ],
   "source": [
    "X #Displaying the data."
   ]
  },
  {
   "cell_type": "code",
   "execution_count": 8,
   "metadata": {},
   "outputs": [],
   "source": [
    "y=a.iloc[:,4] #selecting the target using iloc() and assigning it to the variable y."
   ]
  },
  {
   "cell_type": "markdown",
   "metadata": {},
   "source": [
    "**Displaying the target data**"
   ]
  },
  {
   "cell_type": "code",
   "execution_count": 9,
   "metadata": {},
   "outputs": [
    {
     "data": {
      "text/plain": [
       "0      0\n",
       "1      0\n",
       "2      0\n",
       "3      0\n",
       "4      1\n",
       "      ..\n",
       "255    1\n",
       "256    1\n",
       "257    1\n",
       "258    0\n",
       "259    0\n",
       "Name: outcome, Length: 260, dtype: int64"
      ]
     },
     "execution_count": 9,
     "metadata": {},
     "output_type": "execute_result"
    }
   ],
   "source": [
    "y #Displaying the data."
   ]
  },
  {
   "cell_type": "markdown",
   "metadata": {},
   "source": [
    "**Splitting the data into training and testing set**"
   ]
  },
  {
   "cell_type": "markdown",
   "metadata": {},
   "source": [
    "Here we import the 'train_test_split' function from the 'model_selection' subpackage of sklearn"
   ]
  },
  {
   "cell_type": "code",
   "execution_count": 10,
   "metadata": {},
   "outputs": [],
   "source": [
    "from sklearn.model_selection import train_test_split\n",
    "\n",
    "X_train, X_test, y_train, y_test = train_test_split(X, y, random_state=791)\n",
    "#Here we assign the data to variables by splitting the original data into training and testing set.\n",
    "#random_state is the seed used by the random number generator, it can be any integer."
   ]
  },
  {
   "cell_type": "markdown",
   "metadata": {},
   "source": [
    "**Development of a machine learning model**"
   ]
  },
  {
   "cell_type": "markdown",
   "metadata": {},
   "source": [
    "This study uses a supervised XGBoost classifier as the predictor model. XGBoost is a high-performance machine learning algorithm that benefits from great interpretability potential due to its recursive tree-based decision system."
   ]
  },
  {
   "cell_type": "markdown",
   "metadata": {},
   "source": [
    "**Installing XGBoost**"
   ]
  },
  {
   "cell_type": "markdown",
   "metadata": {},
   "source": [
    "XGBoost is used in Applied Machine Learning and is known for its gradient boosting algorithm."
   ]
  },
  {
   "cell_type": "code",
   "execution_count": 27,
   "metadata": {},
   "outputs": [
    {
     "name": "stdout",
     "output_type": "stream",
     "text": [
      "Collecting xgboost\n",
      "  Downloading https://files.pythonhosted.org/packages/29/31/580e1a2cd683fa219b272bd4f52540c987a5f4be5d28ed506a87c551667f/xgboost-1.1.1-py3-none-win_amd64.whl (54.4MB)\n",
      "Requirement already satisfied: scipy in c:\\users\\benjo\\appdata\\local\\continuum\\anaconda3\\lib\\site-packages (from xgboost) (1.3.1)\n",
      "Requirement already satisfied: numpy in c:\\users\\benjo\\appdata\\local\\continuum\\anaconda3\\lib\\site-packages (from xgboost) (1.16.5)\n",
      "Installing collected packages: xgboost\n",
      "Successfully installed xgboost-1.1.1\n",
      "Note: you may need to restart the kernel to use updated packages.\n"
     ]
    }
   ],
   "source": [
    "pip install xgboost #Installing XGBoost using 'pip install'."
   ]
  },
  {
   "cell_type": "markdown",
   "metadata": {},
   "source": [
    "**XGBoost Classifier with parameters**"
   ]
  },
  {
   "cell_type": "markdown",
   "metadata": {},
   "source": [
    "XGBoost was originally trained in this study with the following default parameter settings: maximum depth equal to 4, learning rate equal to 0.2, number of tree estimators set to 150, value of the regularization parameter α set to 1 and ‘subsample’ and ‘colsample_bytree’ both set to 0.9. Therefore creating a model with the same parameters as used in the study. "
   ]
  },
  {
   "cell_type": "code",
   "execution_count": 57,
   "metadata": {},
   "outputs": [],
   "source": [
    "from xgboost import XGBClassifier\n",
    "#Here we import the 'XGBClassifier' function from xgboost"
   ]
  },
  {
   "cell_type": "code",
   "execution_count": 58,
   "metadata": {},
   "outputs": [
    {
     "data": {
      "text/plain": [
       "XGBClassifier(base_score=0.5, booster='gbtree', colsample_bylevel=1,\n",
       "              colsample_bynode=1, colsample_bytree=0.9, gamma=0, gpu_id=-1,\n",
       "              importance_type='gain', interaction_constraints='',\n",
       "              learning_rate=0.2, max_delta_step=0, max_depth=4,\n",
       "              min_child_weight=1, missing=nan, monotone_constraints='()',\n",
       "              n_estimators=150, n_jobs=0, num_parallel_tree=1,\n",
       "              objective='binary:logistic', random_state=0, reg_alpha=1,\n",
       "              reg_lambda=1, scale_pos_weight=1, subsample=0.9,\n",
       "              tree_method='exact', validate_parameters=1, verbosity=None)"
      ]
     },
     "execution_count": 58,
     "metadata": {},
     "output_type": "execute_result"
    }
   ],
   "source": [
    "model = XGBClassifier(max_depth=4,learning_rate=0.2,n_estimators=150,reg_alpha=1,subsample=0.9,colsample_bytree=0.9)\n",
    "model.fit(X_train, y_train)\n",
    "#here we fit the training data using XGBClassifier()."
   ]
  },
  {
   "cell_type": "code",
   "execution_count": 59,
   "metadata": {},
   "outputs": [
    {
     "name": "stdout",
     "output_type": "stream",
     "text": [
      "XGBClassifier(base_score=0.5, booster='gbtree', colsample_bylevel=1,\n",
      "              colsample_bynode=1, colsample_bytree=0.9, gamma=0, gpu_id=-1,\n",
      "              importance_type='gain', interaction_constraints='',\n",
      "              learning_rate=0.2, max_delta_step=0, max_depth=4,\n",
      "              min_child_weight=1, missing=nan, monotone_constraints='()',\n",
      "              n_estimators=150, n_jobs=0, num_parallel_tree=1,\n",
      "              objective='binary:logistic', random_state=0, reg_alpha=1,\n",
      "              reg_lambda=1, scale_pos_weight=1, subsample=0.9,\n",
      "              tree_method='exact', validate_parameters=1, verbosity=None)\n"
     ]
    }
   ],
   "source": [
    "print(model) #printing the model."
   ]
  },
  {
   "cell_type": "markdown",
   "metadata": {},
   "source": [
    "**Making predictions for test data**"
   ]
  },
  {
   "cell_type": "code",
   "execution_count": 60,
   "metadata": {},
   "outputs": [],
   "source": [
    "y_pred = model.predict(X_test) #here the predict() predict the new values for the testing set.\n",
    "predictions = [round(value) for value in y_pred] #here the round() will return the nearest integer values of y_pred and store it in a variable named predictions."
   ]
  },
  {
   "cell_type": "markdown",
   "metadata": {},
   "source": [
    "**Predictions for the training set.**"
   ]
  },
  {
   "cell_type": "code",
   "execution_count": 61,
   "metadata": {},
   "outputs": [],
   "source": [
    "y_pred2 = model.predict(X_train) #here the predict() predict the new values for the training set."
   ]
  },
  {
   "cell_type": "markdown",
   "metadata": {},
   "source": [
    "**Displaying the actual and predicted class**"
   ]
  },
  {
   "cell_type": "code",
   "execution_count": 77,
   "metadata": {},
   "outputs": [
    {
     "name": "stdout",
     "output_type": "stream",
     "text": [
      "Actual class:  0  , predicted class : 0\n",
      "Actual class:  1  , predicted class : 1\n",
      "Actual class:  0  , predicted class : 0\n",
      "Actual class:  0  , predicted class : 0\n",
      "Actual class:  1  , predicted class : 1\n",
      "Actual class:  0  , predicted class : 0\n",
      "Actual class:  0  , predicted class : 1\n",
      "Actual class:  0  , predicted class : 0\n",
      "Actual class:  0  , predicted class : 0\n",
      "Actual class:  0  , predicted class : 0\n",
      "Actual class:  0  , predicted class : 0\n",
      "Actual class:  1  , predicted class : 1\n",
      "Actual class:  1  , predicted class : 1\n",
      "Actual class:  0  , predicted class : 0\n",
      "Actual class:  0  , predicted class : 0\n",
      "Actual class:  0  , predicted class : 0\n",
      "Actual class:  1  , predicted class : 1\n",
      "Actual class:  0  , predicted class : 0\n",
      "Actual class:  0  , predicted class : 0\n",
      "Actual class:  0  , predicted class : 0\n",
      "Actual class:  0  , predicted class : 0\n",
      "Actual class:  0  , predicted class : 0\n",
      "Actual class:  0  , predicted class : 0\n",
      "Actual class:  0  , predicted class : 0\n",
      "Actual class:  0  , predicted class : 0\n",
      "Actual class:  1  , predicted class : 0\n",
      "Actual class:  0  , predicted class : 0\n",
      "Actual class:  0  , predicted class : 0\n",
      "Actual class:  0  , predicted class : 0\n",
      "Actual class:  0  , predicted class : 0\n",
      "Actual class:  0  , predicted class : 0\n",
      "Actual class:  0  , predicted class : 0\n",
      "Actual class:  0  , predicted class : 0\n",
      "Actual class:  0  , predicted class : 0\n",
      "Actual class:  0  , predicted class : 0\n",
      "Actual class:  0  , predicted class : 0\n",
      "Actual class:  0  , predicted class : 1\n",
      "Actual class:  0  , predicted class : 0\n",
      "Actual class:  0  , predicted class : 0\n",
      "Actual class:  0  , predicted class : 0\n",
      "Actual class:  0  , predicted class : 0\n",
      "Actual class:  0  , predicted class : 0\n",
      "Actual class:  0  , predicted class : 0\n",
      "Actual class:  1  , predicted class : 1\n",
      "Actual class:  0  , predicted class : 1\n",
      "Actual class:  0  , predicted class : 0\n",
      "Actual class:  1  , predicted class : 1\n",
      "Actual class:  0  , predicted class : 0\n",
      "Actual class:  0  , predicted class : 0\n",
      "Actual class:  1  , predicted class : 1\n",
      "Actual class:  0  , predicted class : 0\n",
      "Actual class:  1  , predicted class : 1\n",
      "Actual class:  1  , predicted class : 1\n",
      "Actual class:  0  , predicted class : 0\n",
      "Actual class:  0  , predicted class : 0\n",
      "Actual class:  1  , predicted class : 1\n",
      "Actual class:  0  , predicted class : 0\n",
      "Actual class:  0  , predicted class : 0\n",
      "Actual class:  0  , predicted class : 0\n",
      "Actual class:  1  , predicted class : 1\n",
      "Actual class:  0  , predicted class : 0\n",
      "Actual class:  0  , predicted class : 0\n",
      "Actual class:  0  , predicted class : 0\n",
      "Actual class:  0  , predicted class : 0\n",
      "Actual class:  1  , predicted class : 1\n"
     ]
    }
   ],
   "source": [
    "for i in range(len(y_test)):    #The len() will return an integer value of string,list etc and the for loop is used to change the value of 'i' in the specified range,here it is the length of the variable y_test\n",
    "    print(\"Actual class: \",y_test.values[i],\" , predicted class :\",y_pred[i]) #Printing the actual class and predicted class for each 'i'."
   ]
  },
  {
   "cell_type": "markdown",
   "metadata": {},
   "source": [
    "**Evaluating perdictions**"
   ]
  },
  {
   "cell_type": "markdown",
   "metadata": {},
   "source": [
    "**In the study,the performance models were evaluated by assessing the classification accuracy (ratio of true predictions over all predictions), the precision, sensitivity/recall and F1 scores.**"
   ]
  },
  {
   "cell_type": "markdown",
   "metadata": {},
   "source": [
    "**Calculating the accuracy of the XGBoost Classifier**"
   ]
  },
  {
   "cell_type": "markdown",
   "metadata": {},
   "source": [
    "Here we import the 'accuracy_score' function from the 'metrics' subpackage of sklearn"
   ]
  },
  {
   "cell_type": "code",
   "execution_count": 62,
   "metadata": {},
   "outputs": [],
   "source": [
    "from sklearn.metrics import accuracy_score"
   ]
  },
  {
   "cell_type": "code",
   "execution_count": 63,
   "metadata": {},
   "outputs": [
    {
     "name": "stdout",
     "output_type": "stream",
     "text": [
      "Accuracy: 95.38%\n"
     ]
    }
   ],
   "source": [
    "accuracy = accuracy_score(y_test, predictions) \n",
    "#In multilabel classification, accuracy_score() function computes subset accuracy.\n",
    "#Here it is used to compute the accuracy of 'predictions' which is a subset ot the testing data.\n",
    "print(\"Accuracy: %.2f%%\" % (accuracy * 100.0)) #printing the accuracy to 2 decimal places.The '*' function denotes multiplication."
   ]
  },
  {
   "cell_type": "code",
   "execution_count": 64,
   "metadata": {},
   "outputs": [],
   "source": [
    "from sklearn import metrics\n",
    "#here we import the 'metrics' funtion from the sklearn"
   ]
  },
  {
   "cell_type": "code",
   "execution_count": 65,
   "metadata": {},
   "outputs": [],
   "source": [
    "a=metrics.accuracy_score(y_test, y_pred)\n",
    "#In multilabel classification, accuracy_score() function computes subset accuracy.\n",
    "#Here it is used to compute the accuracy of y_pred which is a subset ot the testing data."
   ]
  },
  {
   "cell_type": "code",
   "execution_count": 66,
   "metadata": {},
   "outputs": [],
   "source": [
    "b=metrics.accuracy_score(y_train, y_pred2)\n",
    "#In multilabel classification, accuracy_score() function computes subset accuracy.\n",
    "#Here it is used to compute the accuracy of y_pred2 which is a subset ot the training data."
   ]
  },
  {
   "cell_type": "markdown",
   "metadata": {},
   "source": [
    "**Plotting a bar graph for displaying accuracies**"
   ]
  },
  {
   "cell_type": "code",
   "execution_count": 67,
   "metadata": {},
   "outputs": [
    {
     "data": {
      "image/png": "[encoded data removed]",
      "text/plain": [
       "<Figure size 432x288 with 1 Axes>"
      ]
     },
     "metadata": {
      "needs_background": "light"
     },
     "output_type": "display_data"
    }
   ],
   "source": [
    "import matplotlib.pyplot as plt #importing the matplotlib.pyplot as 'plt' in short which is a collection of command style functions that make matplotlib work like MATLAB.\n",
    "#Each pyplot function makes some change to a figure\n",
    "x='Test Data' #Assigning the string 'Test Data' to the variable x\n",
    "y='Train Data' #Assigning the string 'Train Data' to the variable y\n",
    "c=[x,y] #Creating a list using the variables x and y\n",
    "d=[a,b] #Creating a list which contains the accuracy\n",
    "plt.bar(c,d,color=['blue','green']) #Plotting a bar graph using the lists 'c' and 'd'\n",
    "plt.ylabel('Accuracy') # Giving the name 'Accuracy' to the y axis\n",
    "plt.title('Testing and Training accuracies') #plt.title() is used to add title for the plot.\n",
    "plt.show() #plt.show() will display the plot."
   ]
  },
  {
   "cell_type": "markdown",
   "metadata": {},
   "source": [
    "**Classification report for the XGBoost Algorithm**"
   ]
  },
  {
   "cell_type": "markdown",
   "metadata": {},
   "source": [
    "Here we import the 'classification_report' function from the 'metrics' subpackage of sklearn"
   ]
  },
  {
   "cell_type": "code",
   "execution_count": 29,
   "metadata": {},
   "outputs": [
    {
     "name": "stdout",
     "output_type": "stream",
     "text": [
      "              precision    recall  f1-score   support\n",
      "\n",
      "           0       0.98      0.96      0.97        51\n",
      "           1       0.87      0.93      0.90        14\n",
      "\n",
      "    accuracy                           0.95        65\n",
      "   macro avg       0.92      0.94      0.93        65\n",
      "weighted avg       0.96      0.95      0.95        65\n",
      "\n"
     ]
    }
   ],
   "source": [
    "from sklearn.metrics import classification_report\n",
    "print(classification_report(y_test,y_pred)) #printing the classification report"
   ]
  },
  {
   "cell_type": "markdown",
   "metadata": {},
   "source": [
    "**Calculating the AUC for XGBoost Classifier and displaying them**"
   ]
  },
  {
   "cell_type": "code",
   "execution_count": 31,
   "metadata": {},
   "outputs": [
    {
     "name": "stdout",
     "output_type": "stream",
     "text": [
      "XGBoost tree Area Under the Curve = 0.9915966386554621\n"
     ]
    }
   ],
   "source": [
    "from sklearn.metrics import roc_auc_score\n",
    "#Here we import the 'roc_auc_score' function from the 'metrics' subpackage of sklearn\n",
    "xgb_auc= roc_auc_score(y_test,model.predict_proba(X_test)[:,1])\n",
    "#roc_auc_score() compute area Under the Receiver Operating Characteristic Curve (ROC AUC) from prediction scores.\n",
    "print(\"XGBoost tree Area Under the Curve = \" +str(xgb_auc))"
   ]
  },
  {
   "cell_type": "markdown",
   "metadata": {},
   "source": [
    "An excellent model has AUC near to the 1 which means it has good measure of separability.This model has auc=0.99159"
   ]
  },
  {
   "cell_type": "markdown",
   "metadata": {},
   "source": [
    "**Calculating and displaying the confusion matrix for XGBoost Classifier**"
   ]
  },
  {
   "cell_type": "code",
   "execution_count": 46,
   "metadata": {},
   "outputs": [
    {
     "name": "stdout",
     "output_type": "stream",
     "text": [
      "Confusion Matrix\n",
      "[[49  2]\n",
      " [ 1 13]]\n"
     ]
    }
   ],
   "source": [
    "from sklearn.metrics import confusion_matrix\n",
    "#Here we import the 'confusion_matrix' function from the 'metrics' subpackage of sklearn\n",
    "print('Confusion Matrix')\n",
    "print(confusion_matrix(y_test,y_pred)) #Printing the confusion matrix\n"
   ]
  },
  {
   "cell_type": "markdown",
   "metadata": {},
   "source": [
    "**Plotting the ROC curve for XGBoost Classifier**"
   ]
  },
  {
   "cell_type": "code",
   "execution_count": 48,
   "metadata": {},
   "outputs": [
    {
     "data": {
      "image/png": "[encoded data removed]",
      "text/plain": [
       "<Figure size 432x288 with 1 Axes>"
      ]
     },
     "metadata": {
      "needs_background": "light"
     },
     "output_type": "display_data"
    }
   ],
   "source": [
    "from sklearn.metrics import roc_curve\n",
    "#Here we import the 'roc_curve' function from the 'metrics' subpackage of sklearn\n",
    "import numpy as np\n",
    "fpr, tpr, _ = roc_curve(y_test,model.predict_proba(X_test)[:,1],pos_label=1)\n",
    "plt.plot(fpr,tpr,label=\"XGBoost Curve\")\n",
    "plt.xlabel(\"FPR\") #plt.xlabel() is used to give the label for the x axis.\n",
    "plt.ylabel(\"TPR\") #plt.ylabel() is used to give the label for the y axis.\n",
    "plt.title('ROC curve for XGBoost Classifier') #plt.title() is used to add title for the plot.\n",
    "plt.legend(loc=4) #Create a legend for the plot element\n",
    "plt.show()  #plt.show() will display the plot."
   ]
  },
  {
   "cell_type": "markdown",
   "metadata": {},
   "source": [
    "The XGBoost classifier gives a curve closer to the top-left corner which indicate a better performance. "
   ]
  },
  {
   "cell_type": "markdown",
   "metadata": {},
   "source": [
    "**Feature importance**"
   ]
  },
  {
   "cell_type": "code",
   "execution_count": 82,
   "metadata": {},
   "outputs": [
    {
     "name": "stdout",
     "output_type": "stream",
     "text": [
      "Feature: 0, Score: 0.11170\n",
      "Feature: 1, Score: 0.25392\n",
      "Feature: 2, Score: 0.63439\n"
     ]
    }
   ],
   "source": [
    "# get importance\n",
    "importance = model.feature_importances_\n",
    "#Feature importance refers to techniques that assign a score to input features based on how useful they are at predicting a target variable.\n",
    "for i,v in enumerate(importance):   #The enumerate() method adds counter to an iterable and returns it.\n",
    "    print('Feature: %0d, Score: %.5f' % (i,v))"
   ]
  },
  {
   "cell_type": "markdown",
   "metadata": {},
   "source": [
    "**Plotting the feature importance**"
   ]
  },
  {
   "cell_type": "code",
   "execution_count": 87,
   "metadata": {},
   "outputs": [
    {
     "data": {
      "image/png": "[encoded data removed]",
      "text/plain": [
       "<Figure size 432x288 with 1 Axes>"
      ]
     },
     "metadata": {
      "needs_background": "light"
     },
     "output_type": "display_data"
    }
   ],
   "source": [
    "plt.bar([x for x in range(len(importance))], importance) #plt.bar() is used to make a bar plot.\n",
    "plt.show() #plt.show() will display the plot."
   ]
  },
  {
   "cell_type": "markdown",
   "metadata": {},
   "source": [
    "**We can see that the importance of Feature 2, LDH , as a crucial biomarker for patient mortality rate.**"
   ]
  },
  {
   "cell_type": "markdown",
   "metadata": {},
   "source": [
    "**In the study, for benchmark purposes,the performances of the interpretable model were compared with other standard methods such as random forest and logistic regression**"
   ]
  },
  {
   "cell_type": "markdown",
   "metadata": {},
   "source": [
    "**Therefore developing models using random forest and logistic regression for comparison purpose**"
   ]
  },
  {
   "cell_type": "markdown",
   "metadata": {},
   "source": [
    "**Random Forest**"
   ]
  },
  {
   "cell_type": "code",
   "execution_count": 69,
   "metadata": {},
   "outputs": [],
   "source": [
    "from sklearn.tree import DecisionTreeClassifier\n",
    "#here we import the 'DecisionTreeClassifier' function from the 'tree' subpackage of sklearn.\n",
    "clf = DecisionTreeClassifier()\n",
    "clf.fit(X_train,y_train)\n",
    "#here we fit the training data using DecisionTreeClassifier().\n",
    "y_pred = clf.predict(X_test)\n",
    "#here the predict() predict the new values for the testing set."
   ]
  },
  {
   "cell_type": "markdown",
   "metadata": {},
   "source": [
    "**Calculating the accuracy of this model**"
   ]
  },
  {
   "cell_type": "code",
   "execution_count": 70,
   "metadata": {},
   "outputs": [
    {
     "name": "stdout",
     "output_type": "stream",
     "text": [
      "Accuracy on test data: 0.8923076923076924\n"
     ]
    },
    {
     "data": {
      "text/plain": [
       "<bound method ClassifierMixin.score of DecisionTreeClassifier(class_weight=None, criterion='gini', max_depth=None,\n",
       "                       max_features=None, max_leaf_nodes=None,\n",
       "                       min_impurity_decrease=0.0, min_impurity_split=None,\n",
       "                       min_samples_leaf=1, min_samples_split=2,\n",
       "                       min_weight_fraction_leaf=0.0, presort=False,\n",
       "                       random_state=None, splitter='best')>"
      ]
     },
     "execution_count": 70,
     "metadata": {},
     "output_type": "execute_result"
    }
   ],
   "source": [
    "print(\"Accuracy on test data:\",metrics.accuracy_score(y_test, y_pred))\n",
    "#printing the accuracy of the test data using accuracy_score().\n",
    "clf.score #uses the mean accuracy."
   ]
  },
  {
   "cell_type": "code",
   "execution_count": 71,
   "metadata": {},
   "outputs": [
    {
     "name": "stdout",
     "output_type": "stream",
     "text": [
      "Accuracy on training data: 1.0\n"
     ]
    }
   ],
   "source": [
    "y_pred_2=clf.predict(X_train) \n",
    "#here the predict() predict the new values for the training set.\n",
    "print(\"Accuracy on training data:\",metrics.accuracy_score(y_train, y_pred_2))\n",
    "#printing the accuracy of the training data using accuracy_score()."
   ]
  },
  {
   "cell_type": "markdown",
   "metadata": {},
   "source": [
    "**Logistic Regression**"
   ]
  },
  {
   "cell_type": "code",
   "execution_count": 72,
   "metadata": {},
   "outputs": [
    {
     "name": "stderr",
     "output_type": "stream",
     "text": [
      "C:\\Users\\benjo\\AppData\\Local\\Continuum\\anaconda3\\lib\\site-packages\\sklearn\\linear_model\\logistic.py:432: FutureWarning: Default solver will be changed to 'lbfgs' in 0.22. Specify a solver to silence this warning.\n",
      "  FutureWarning)\n"
     ]
    },
    {
     "data": {
      "text/plain": [
       "LogisticRegression(C=1.0, class_weight=None, dual=False, fit_intercept=True,\n",
       "                   intercept_scaling=1, l1_ratio=None, max_iter=100,\n",
       "                   multi_class='warn', n_jobs=None, penalty='l2',\n",
       "                   random_state=None, solver='warn', tol=0.0001, verbose=0,\n",
       "                   warm_start=False)"
      ]
     },
     "execution_count": 72,
     "metadata": {},
     "output_type": "execute_result"
    }
   ],
   "source": [
    "from sklearn.linear_model import LogisticRegression\n",
    "#here we import the 'LogisticRegression' function from the 'linear_model' subpackage of sklearn.\n",
    "log_reg = LogisticRegression()\n",
    "log_reg.fit(X_train,y_train)\n",
    "#here we fit the training data using LogisticRegression()."
   ]
  },
  {
   "cell_type": "code",
   "execution_count": 73,
   "metadata": {},
   "outputs": [],
   "source": [
    "y_pred=log_reg.predict(X_test)\n",
    "#here the predict() predict the new values for the testing set."
   ]
  },
  {
   "cell_type": "code",
   "execution_count": 74,
   "metadata": {},
   "outputs": [],
   "source": [
    "y_pred2=log_reg.predict(X_train)\n",
    "#here the predict() predict the new values for the training set."
   ]
  },
  {
   "cell_type": "markdown",
   "metadata": {},
   "source": [
    "**Calculaitng the accuracy of this model**"
   ]
  },
  {
   "cell_type": "code",
   "execution_count": 75,
   "metadata": {},
   "outputs": [
    {
     "name": "stdout",
     "output_type": "stream",
     "text": [
      "Accuracy on test data: 0.9384615384615385\n"
     ]
    }
   ],
   "source": [
    "print(\"Accuracy on test data:\",metrics.accuracy_score(y_test, y_pred))\n",
    "#printing the accuracy of the test data using accuracy_score()."
   ]
  },
  {
   "cell_type": "code",
   "execution_count": 76,
   "metadata": {},
   "outputs": [
    {
     "name": "stdout",
     "output_type": "stream",
     "text": [
      "Accuracy on training data: 1.0\n"
     ]
    }
   ],
   "source": [
    "print(\"Accuracy on training data:\",metrics.accuracy_score(y_train, y_pred_2))\n",
    "#printing the accuracy of the training data using accuracy_score()."
   ]
  },
  {
   "cell_type": "markdown",
   "metadata": {},
   "source": [
    "**Model Evaluation**"
   ]
  },
  {
   "cell_type": "markdown",
   "metadata": {},
   "source": [
    "The accuracy of machine learning model using random forest is 89.2% and that of the machine learning model using logistic regression is 93.8%. Both of these models are having accuracies less than that of the XGBoost Classifier which has an accuracy of 95.8%."
   ]
  }
 ],
 "metadata": {
  "kernelspec": {
   "display_name": "Python 3",
   "language": "python",
   "name": "python3"
  },
  "language_info": {
   "codemirror_mode": {
    "name": "ipython",
    "version": 3
   },
   "file_extension": ".py",
   "mimetype": "text/x-python",
   "name": "python",
   "nbconvert_exporter": "python",
   "pygments_lexer": "ipython3",
   "version": "3.8.5"
  }
 },
 "nbformat": 4,
 "nbformat_minor": 2
}
